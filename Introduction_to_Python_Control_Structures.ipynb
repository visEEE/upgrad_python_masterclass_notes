{
  "cells": [
    {
      "cell_type": "markdown",
      "metadata": {
        "id": "view-in-github",
        "colab_type": "text"
      },
      "source": [
        "<a href=\"https://colab.research.google.com/github/visEEE/upgrad_python_masterclass_notes/blob/main/Introduction_to_Python_Control_Structures.ipynb\" target=\"_parent\"><img src=\"https://colab.research.google.com/assets/colab-badge.svg\" alt=\"Open In Colab\"/></a>"
      ]
    },
    {
      "cell_type": "markdown",
      "source": [
        "#Sequential Execution"
      ],
      "metadata": {
        "id": "aPIz9qtk9Bh4"
      }
    },
    {
      "cell_type": "markdown",
      "metadata": {
        "id": "abYpioLyK_XC"
      },
      "source": [
        "# Conditionals"
      ]
    },
    {
      "cell_type": "markdown",
      "metadata": {
        "id": "BYoWdWtgVVHi"
      },
      "source": [
        "## The `if-else` statement\n",
        "\n",
        "Write a program to evaluate whether a person is eligible for a loan based on two factors: their age and their income.\n",
        "\n",
        "A person is eligible for a loan if their age is 18 or above and their income is greater than 2000."
      ]
    },
    {
      "cell_type": "code",
      "source": [
        "#A bank is evaluating whether a person is eligible for a loan based on two factors: their age and income.\n",
        "# Define two variables\n",
        "age = 25\n",
        "income = 3000\n",
        "\n",
        "# Check if the person is eligible for a loan\n",
        "if age >= 18 and income > 2000:\n",
        "    print('Eligible for loan')\n",
        "else:\n",
        "    print('Not eligible for loan')\n",
        "\n",
        "# Check if the person is either under 18 or has an income less than 2000\n",
        "if age < 18 or income <= 2000:\n",
        "    print('Not eligible due to age or income')\n",
        "else:\n",
        "    print('Eligible based on age and income')\n"
      ],
      "metadata": {
        "id": "trNV3vZhYUl8"
      },
      "execution_count": null,
      "outputs": []
    },
    {
      "cell_type": "markdown",
      "metadata": {
        "id": "eZSO-5ZZOg05"
      },
      "source": [
        "## The `if-elif-else` statement\n",
        "\n",
        "Write a program to check the hunger level of a user. If the hunger level is 'super hungry', offer them pizza. If the hunger level is 'somewhat hungry', offer them a snack. Otherwise, ask them to take a nap."
      ]
    },
    {
      "cell_type": "code",
      "source": [
        "# Define the hunger level\n",
        "hunger_level = 'super hungry'  # Options: 'super hungry', 'somewhat hungry', 'not hungry'\n",
        "\n",
        "# Decide what to eat using if, elif, and else\n",
        "if hunger_level == 'super hungry':\n",
        "    print('You are super hungry! Pizza time!')\n",
        "elif hunger_level == 'somewhat hungry':\n",
        "    print('You are somewhat hungry! A snack will do.')\n",
        "else:\n",
        "    print('Not hungry? Time for a nap!')"
      ],
      "metadata": {
        "id": "qvXQyUyqY7bD"
      },
      "execution_count": null,
      "outputs": []
    },
    {
      "cell_type": "markdown",
      "metadata": {
        "id": "9qaWFaTPUR6x"
      },
      "source": [
        "## Nested `if` statements\n",
        "\n",
        "Go through the logic of the following code to understand what it does"
      ]
    },
    {
      "cell_type": "code",
      "source": [
        "# Define the weather and mood\n",
        "weather = 'sunny'  # Options: 'sunny', 'raining', 'snowing'\n",
        "mood = 'lazy'  # Options: 'lazy', 'happy', 'adventurous'\n",
        "\n",
        "# Decide what to wear using nested if\n",
        "if weather == 'sunny':\n",
        "    print(\"It's sunny!\")\n",
        "    if mood == 'lazy':\n",
        "        print('You decide to wear comfortable clothes and skip the sunglasses and shorts.')\n",
        "    else:\n",
        "        print('Wear sunglasses and shorts to enjoy the sunshine!')\n",
        "elif weather == 'raining':\n",
        "    print(\"It's raining!\")\n",
        "    if mood == 'happy':\n",
        "        print('Wear a raincoat, boots, and grab an umbrella!')\n",
        "    else:\n",
        "        print('Wear a raincoat and boots, but skip the umbrella.')\n",
        "elif weather == 'snowing':\n",
        "    print(\"It's snowing!\")\n",
        "    if mood == 'adventurous':\n",
        "        print('Wear a coat, gloves, and go out to enjoy the snow without hesitation!')\n",
        "    else:\n",
        "        print('Wear a heavy coat and gloves to stay warm.')\n",
        "else:\n",
        "    print('Weather seems unpredictable. Better stay inside!')"
      ],
      "metadata": {
        "id": "vGPiYQhoZZBy"
      },
      "execution_count": null,
      "outputs": []
    },
    {
      "cell_type": "markdown",
      "metadata": {
        "id": "rRxbcbiSLKEZ"
      },
      "source": [
        "# The `while` loop\n",
        "\n",
        "We are making a magic pancake which keeps doubling in size everytime we flip it. The pancake starts at size 1, and the maximum size of a pancake is 10. Write a loop to print out the size of a pancake after every flip. The program should terminate if the pancake size is too big."
      ]
    },
    {
      "cell_type": "code",
      "source": [
        "# Starting size of pancake\n",
        "pancake_size = 1  # small pancake, size 1\n",
        "\n",
        "# Maximum size we want (let's say the pancake can't grow larger than size 10)\n",
        "max_size = 10\n",
        "\n",
        "# The loop continues as long as the pancake size is less than or equal to the max size\n",
        "while pancake_size <= max_size:\n",
        "    print(f\"Flipping the pancake... it's size {pancake_size}! (It's a magic pancake!)\")\n",
        "    pancake_size *= 2  # Each time we flip it, the pancake doubles in size.\n",
        "\n",
        "print(\"Oops! The pancake got too big! It's size:\", pancake_size)\n"
      ],
      "metadata": {
        "id": "ugOdfkrZaiY1"
      },
      "execution_count": null,
      "outputs": []
    },
    {
      "cell_type": "markdown",
      "metadata": {
        "id": "TViSGmQzfUwk"
      },
      "source": [
        "# The `for` loop\n",
        "\n",
        "Write a program to print every alternate hundred starting from 100. The program should print 100, 300, ... until 900."
      ]
    },
    {
      "cell_type": "code",
      "source": [
        "for i in range(1, 10, 2):\n",
        "    print(i*100)"
      ],
      "metadata": {
        "id": "NQ8qFHWXq11l"
      },
      "execution_count": null,
      "outputs": []
    },
    {
      "cell_type": "markdown",
      "source": [
        "Write a program to iterate through the flavours in a list of ice cream flavours, printing out the flavour for each ice cream. A list can be iterated through using a for loop."
      ],
      "metadata": {
        "id": "m1MURaDArAJE"
      }
    },
    {
      "cell_type": "code",
      "source": [
        "# List of ice cream flavors\n",
        "flavours = ['Vanilla', 'Chocolate', 'Strawberry', 'Mint', 'Cookie Dough']\n",
        "\n",
        "# Using a for loop to count the flavors\n",
        "for flavour in flavours:\n",
        "    print(f'Yum! I found a flavour: {flavour}')"
      ],
      "metadata": {
        "id": "9BxQk0tQaunW"
      },
      "execution_count": null,
      "outputs": []
    },
    {
      "cell_type": "markdown",
      "metadata": {
        "id": "diHS0eZdIshI"
      },
      "source": [
        "# Functions"
      ]
    },
    {
      "cell_type": "markdown",
      "metadata": {
        "id": "OebxpA0-Nk8j"
      },
      "source": [
        "## User-defined functions"
      ]
    },
    {
      "cell_type": "markdown",
      "source": [
        "Write a function to greet a friend by their name. Call this function for three of your friends."
      ],
      "metadata": {
        "id": "zFhNL4XzrOX1"
      }
    },
    {
      "cell_type": "code",
      "source": [
        "# Define a function called greet_friend\n",
        "def greet_friend(name):\n",
        "    print(f'Hello, {name}! Welcome to the party! 🎉')\n",
        "\n",
        "# Now we can call the function to greet different friends\n",
        "greet_friend('Akriti')\n",
        "greet_friend('Bob')\n",
        "greet_friend('Charu')"
      ],
      "metadata": {
        "id": "bynCmGXUbCax"
      },
      "execution_count": null,
      "outputs": []
    },
    {
      "cell_type": "markdown",
      "metadata": {
        "id": "aJpIgFRKpQkk"
      },
      "source": [
        "## Function scope\n",
        "\n",
        "Study the following example to understand the difference between local and global scope"
      ]
    },
    {
      "cell_type": "code",
      "source": [
        "# Global variable\n",
        "age = 30  # This is a global variable\n",
        "\n",
        "def display_age():\n",
        "    # Local variable\n",
        "    age = 25  # This is a local variable inside the function\n",
        "    print('Inside the function, age is:', age)\n",
        "\n",
        "# Calling the function\n",
        "display_age()\n",
        "\n",
        "# Accessing the global variable outside the function\n",
        "print('Outside the function, age is:', age)"
      ],
      "metadata": {
        "id": "JoT4iKA5bgdY"
      },
      "execution_count": null,
      "outputs": []
    },
    {
      "cell_type": "markdown",
      "metadata": {
        "id": "1VUl9XkKc27y"
      },
      "source": [
        "## Functions with parameters\n",
        "\n",
        "Write a function which takes a user's name and an item to return a complement to the user. For instance, if the name provided is 'Akriti' and the item provided is 'unicorn', the function should return:\n",
        "\n",
        "```\n",
        "Akriti, you are the most amazing unicorn I have ever seen!\n",
        "```\n",
        "\n"
      ]
    },
    {
      "cell_type": "code",
      "source": [
        "# Function to generate a funny compliment\n",
        "def give_compliment(name, item):\n",
        "    compliment = f'{name}, you are the most amazing {item} I have ever seen!'\n",
        "    return compliment\n",
        "\n",
        "# Calling the function and passing arguments (name and item)\n",
        "compliment1 = give_compliment('Akriti', 'unicorn')\n",
        "compliment2 = give_compliment('Bob', 'potato')\n",
        "compliment3 = give_compliment('Charu', 'dancing penguin')\n",
        "\n",
        "# Print the compliments\n",
        "print(compliment1)\n",
        "print(compliment2)\n",
        "print(compliment3)"
      ],
      "metadata": {
        "id": "vCAvryh2dLB4"
      },
      "execution_count": null,
      "outputs": []
    },
    {
      "cell_type": "markdown",
      "source": [
        "## Lambda function\n",
        "\n",
        "Write a lambda function to judge pizza toppings. The topping 'pineapple' is controversial; any other topping is fine.\n",
        "\n"
      ],
      "metadata": {
        "id": "_J64BRcUcxpL"
      }
    },
    {
      "cell_type": "code",
      "source": [
        "# Lambda function to judge pizza toppings\n",
        "judge_topping = lambda topping: f'Yum! {topping} is a great choice!' if topping != 'pineapple' else \"Pineapple on pizza? That's a controversial choice!\"\n",
        "\n",
        "# Test the lambda function\n",
        "print(judge_topping('pepperoni'))  # Good topping\n",
        "print(judge_topping('pineapple'))  # Controversial topping"
      ],
      "metadata": {
        "id": "Js5BlDwqdguc"
      },
      "execution_count": null,
      "outputs": []
    }
  ],
  "metadata": {
    "colab": {
      "provenance": [],
      "toc_visible": true,
      "include_colab_link": true
    },
    "kernelspec": {
      "display_name": "Python 3 (ipykernel)",
      "language": "python",
      "name": "python3"
    },
    "language_info": {
      "codemirror_mode": {
        "name": "ipython",
        "version": 3
      },
      "file_extension": ".py",
      "mimetype": "text/x-python",
      "name": "python",
      "nbconvert_exporter": "python",
      "pygments_lexer": "ipython3",
      "version": "3.11.4"
    }
  },
  "nbformat": 4,
  "nbformat_minor": 0
}